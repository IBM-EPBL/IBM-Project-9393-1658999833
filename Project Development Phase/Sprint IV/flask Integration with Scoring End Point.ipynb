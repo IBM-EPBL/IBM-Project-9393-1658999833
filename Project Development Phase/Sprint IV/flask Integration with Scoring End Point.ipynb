{
 "cells": [
  {
   "cell_type": "code",
   "execution_count": 1,
   "id": "3ee78cca",
   "metadata": {},
   "outputs": [],
   "source": [
    "from flask import Flask, render_template\n",
    "from flask import request\n",
    "import pickle\n",
    "import inputScript\n",
    "import requests"
   ]
  },
  {
   "cell_type": "markdown",
   "id": "dbb938eb",
   "metadata": {},
   "source": [
    "# Integrating Flask with Scoring End Point "
   ]
  },
  {
   "cell_type": "code",
   "execution_count": null,
   "id": "dcfea18d",
   "metadata": {},
   "outputs": [
    {
     "name": "stdout",
     "output_type": "stream",
     "text": [
      " * Serving Flask app \"__main__\" (lazy loading)\n",
      " * Environment: production\n",
      "\u001b[31m   WARNING: This is a development server. Do not use it in a production deployment.\u001b[0m\n",
      "\u001b[2m   Use a production WSGI server instead.\u001b[0m\n",
      " * Debug mode: off\n"
     ]
    },
    {
     "name": "stderr",
     "output_type": "stream",
     "text": [
      " * Running on http://127.0.0.1:5000/ (Press CTRL+C to quit)\n"
     ]
    }
   ],
   "source": [
    "app = Flask(__name__)\n",
    "\n",
    "@app.route('/')\n",
    "def home():\n",
    "    return render_template('phishing.html')\n",
    "\n",
    "@app.route('/predict',methods=['POST'])\n",
    "def predict():\n",
    "    return render_template('home.html')\n",
    "\n",
    "@app.route('/result',methods=['POST'])\n",
    "def result():\n",
    "    #For rendering results on HTML GUI\n",
    "    int_features = request.form['url']\n",
    "    print(int_features)\n",
    "    checkprediction = inputScript.main(int_features)\n",
    "    API_KEY = \"iCvI0Alk0K9_Cp4834eaop53ZhOOtjQ29ylS-6craV-p\"\n",
    "    token_response = requests.post('https://iam.cloud.ibm.com/identity/token', data={\"apikey\":\n",
    "     API_KEY, \"grant_type\": 'urn:ibm:params:oauth:grant-type:apikey'})\n",
    "    mltoken = token_response.json()[\"access_token\"]\n",
    "\n",
    "    header = {'Content-Type': 'application/json', 'Authorization': 'Bearer ' + mltoken}\n",
    "\n",
    "    int_features = \"https://www.binance-co.com/\"\n",
    "    checkprediction = inputScript.main(int_features)\n",
    "\n",
    "    # NOTE: manually define and pass the array(s) of values to be scored in the next line\n",
    "    payload_scoring = {\"input_data\": [{\"field\": [[\"index\",\"having_IPhaving_IP_Address\",\"URLURL_Length\",\"Shortining_Service\",\n",
    "                                                  \"having_At_Symbol\",\"double_slash_redirecting\",\"Prefix_Suffix\",\"having_Sub_Domain\",\n",
    "                                                  \"SSLfinal_State\",\"Domain_registeration_length\",\"Favicon\",\"port\",\"HTTPS_token\",\n",
    "                                                  \"Request_URL\",\"URL_of_Anchor\",\"Links_in_tags\",\"SFH\",\"Submitting_to_email\",\n",
    "                                                  \"Abnormal_URL\",\"Redirect\",\"on_mouseover\",\"RightClick\",\"popUpWidnow\",\"Iframe\",\n",
    "                                                  \"age_of_domain\",\"DNSRecord\",\"web_traffic\",\"Page_Rank\",\"Google_Index\",\n",
    "                                                  \"Links_pointing_to_page\",\"Statistical_report\"]], \n",
    "                                       \"values\": checkprediction}]}\n",
    "\n",
    "    response_scoring = requests.post('https://us-south.ml.cloud.ibm.com/ml/v4/deployments/30400c66-72c5-4e4b-8234-a746f751e5e4/predictions?version=2022-11-18', \n",
    "                                     json=payload_scoring, headers={'Authorization': 'Bearer ' + mltoken})\n",
    "    print(\"Scoring response\")\n",
    "    predictions=response_scoring.json()\n",
    "    pred=predictions['predictions'][0]['values'][0][0]\n",
    "    print(pred)\n",
    "    res=\"\"\n",
    "    if(pred==1):\n",
    "        res=int_features+\" is not safe to enter\"\n",
    "    elif(pred==-1):\n",
    "        res=int_features+\" is safe to enter\"\n",
    "    print(res)\n",
    "    return render_template('home.html', prediction_text= res)\n",
    "\n",
    "\n",
    "if __name__ == '__main__':\n",
    "    app.run()"
   ]
  },
  {
   "cell_type": "code",
   "execution_count": null,
   "id": "2d749708",
   "metadata": {},
   "outputs": [],
   "source": []
  }
 ],
 "metadata": {
  "kernelspec": {
   "display_name": "Python 3 (ipykernel)",
   "language": "python",
   "name": "python3"
  },
  "language_info": {
   "codemirror_mode": {
    "name": "ipython",
    "version": 3
   },
   "file_extension": ".py",
   "mimetype": "text/x-python",
   "name": "python",
   "nbconvert_exporter": "python",
   "pygments_lexer": "ipython3",
   "version": "3.9.7"
  }
 },
 "nbformat": 4,
 "nbformat_minor": 5
}
