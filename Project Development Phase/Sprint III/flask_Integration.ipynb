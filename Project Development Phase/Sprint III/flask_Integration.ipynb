{
 "cells": [
  {
   "cell_type": "code",
   "execution_count": 1,
   "id": "3ee78cca",
   "metadata": {},
   "outputs": [],
   "source": [
    "from flask import Flask, render_template\n"
   ]
  },
  {
   "cell_type": "code",
   "execution_count": 2,
   "id": "c93d9c3a",
   "metadata": {},
   "outputs": [],
   "source": [
    "from flask import request"
   ]
  },
  {
   "cell_type": "code",
   "execution_count": 3,
   "id": "bf59384a",
   "metadata": {},
   "outputs": [],
   "source": [
    "import numpy as np\n",
    "import pandas as pd\n",
    "from sklearn.linear_model import LogisticRegression\n",
    "import pickle\n",
    "import joblib\n",
    "import inputScript"
   ]
  },
  {
   "cell_type": "markdown",
   "id": "dbb938eb",
   "metadata": {},
   "source": [
    "# Integrating Flask with Model"
   ]
  },
  {
   "cell_type": "code",
   "execution_count": 32,
   "id": "dcfea18d",
   "metadata": {},
   "outputs": [
    {
     "name": "stdout",
     "output_type": "stream",
     "text": [
      " * Serving Flask app '__main__' (lazy loading)\n",
      " * Environment: production\n",
      "\u001b[31m   WARNING: This is a development server. Do not use it in a production deployment.\u001b[0m\n",
      "\u001b[2m   Use a production WSGI server instead.\u001b[0m\n",
      " * Debug mode: off\n"
     ]
    },
    {
     "name": "stderr",
     "output_type": "stream",
     "text": [
      " * Running on http://127.0.0.1:5000/ (Press CTRL+C to quit)\n",
      "127.0.0.1 - - [11/Nov/2022 21:35:04] \"GET / HTTP/1.1\" 200 -\n",
      "127.0.0.1 - - [11/Nov/2022 21:35:04] \"GET /static/images/phish.png HTTP/1.1\" 304 -\n",
      "127.0.0.1 - - [11/Nov/2022 21:35:04] \"GET /static/images/about.png HTTP/1.1\" 304 -\n",
      "127.0.0.1 - - [11/Nov/2022 21:35:04] \"GET /static/images/bg1.jpg HTTP/1.1\" 304 -\n",
      "127.0.0.1 - - [11/Nov/2022 21:35:04] \"GET /static/images/bg6.jpeg HTTP/1.1\" 304 -\n",
      "127.0.0.1 - - [11/Nov/2022 21:36:25] \"POST /predict HTTP/1.1\" 200 -\n",
      "127.0.0.1 - - [11/Nov/2022 21:36:25] \"GET /static/images/urlbg2.jpg HTTP/1.1\" 304 -\n"
     ]
    },
    {
     "name": "stdout",
     "output_type": "stream",
     "text": [
      "https://www.binance-co.com/\n"
     ]
    },
    {
     "name": "stderr",
     "output_type": "stream",
     "text": [
      "127.0.0.1 - - [11/Nov/2022 21:37:13] \"POST /result HTTP/1.1\" 200 -\n",
      "127.0.0.1 - - [11/Nov/2022 21:37:13] \"GET /static/images/urlbg2.jpg HTTP/1.1\" 304 -\n"
     ]
    },
    {
     "name": "stdout",
     "output_type": "stream",
     "text": [
      "module 'whois' has no attribute 'whois'\n",
      "final op: [[0, -1, 0, -1, 0, 1, -1, 0, 0, 0, 0, -1, 0, 0, 0, 0, 0, 0, 0, 0, 0, 0, 0, 0, 0, 0, 0, 0, 0, 0]]\n",
      "[1]\n",
      "https://www.google.com/\n"
     ]
    },
    {
     "name": "stderr",
     "output_type": "stream",
     "text": [
      "127.0.0.1 - - [11/Nov/2022 21:38:29] \"POST /result HTTP/1.1\" 200 -\n",
      "127.0.0.1 - - [11/Nov/2022 21:38:29] \"GET /static/images/urlbg2.jpg HTTP/1.1\" 304 -\n"
     ]
    },
    {
     "name": "stdout",
     "output_type": "stream",
     "text": [
      "module 'whois' has no attribute 'whois'\n",
      "final op: [[0, -1, 0, -1, 0, -1, -1, 0, 0, 0, 0, -1, 0, 0, 0, 0, 0, 0, 0, 0, 0, 0, 0, 0, 0, 0, 0, 0, 0, 0]]\n",
      "[-1]\n"
     ]
    }
   ],
   "source": [
    "app = Flask(__name__)\n",
    "model = pickle.load(open('model.pkl','rb'))\n",
    "@app.route('/')\n",
    "def home():\n",
    "    return render_template('phishing.html')\n",
    "\n",
    "@app.route('/predict',methods=['POST'])\n",
    "def predict():\n",
    "    return render_template('home.html')\n",
    "\n",
    "@app.route('/result',methods=['POST'])\n",
    "def result():\n",
    "    #For rendering results on HTML GUI\n",
    "    int_features = request.form['url']\n",
    "    print(int_features)\n",
    "    checkprediction = inputScript.main(int_features)\n",
    "    prediction = classifier.predict(checkprediction)\n",
    "    print(prediction)\n",
    "    res=\"\"\n",
    "    if(prediction==1):\n",
    "        res=int_features+\" is not safe to enter\"\n",
    "    elif(prediction==-1):\n",
    "        res=int_features+\" is safe to enter\"\n",
    "    return render_template('home.html', prediction_text= res)\n",
    "\n",
    "\n",
    "if __name__ == '__main__':\n",
    "    app.run()"
   ]
  },
  {
   "cell_type": "code",
   "execution_count": null,
   "id": "b234ab0b",
   "metadata": {},
   "outputs": [],
   "source": []
  },
  {
   "cell_type": "code",
   "execution_count": null,
   "id": "335420b1",
   "metadata": {},
   "outputs": [],
   "source": []
  }
 ],
 "metadata": {
  "kernelspec": {
   "display_name": "summerproject",
   "language": "python",
   "name": "summerproject"
  },
  "language_info": {
   "codemirror_mode": {
    "name": "ipython",
    "version": 3
   },
   "file_extension": ".py",
   "mimetype": "text/x-python",
   "name": "python",
   "nbconvert_exporter": "python",
   "pygments_lexer": "ipython3",
   "version": "3.7.11"
  }
 },
 "nbformat": 4,
 "nbformat_minor": 5
}
